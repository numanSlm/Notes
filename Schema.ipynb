{
 "cells": [
  {
   "cell_type": "code",
   "execution_count": 0,
   "metadata": {
    "application/vnd.databricks.v1+cell": {
     "cellMetadata": {
      "byteLimit": 2048000,
      "implicitDf": true,
      "rowLimit": 10000
     },
     "inputWidgets": {},
     "nuid": "d05d6650-05f5-46ca-9974-a3de2642bc20",
     "showTitle": false,
     "tableResultSettingsMap": {},
     "title": ""
    }
   },
   "outputs": [],
   "source": [
    "%sql\n",
    "use cat_prod.pega;"
   ]
  },
  {
   "cell_type": "code",
   "execution_count": 0,
   "metadata": {
    "application/vnd.databricks.v1+cell": {
     "cellMetadata": {
      "byteLimit": 2048000,
      "implicitDf": true,
      "rowLimit": 10000
     },
     "inputWidgets": {},
     "nuid": "f2055f3f-1998-4082-a619-8f467a93f5ec",
     "showTitle": false,
     "tableResultSettingsMap": {},
     "title": ""
    }
   },
   "outputs": [],
   "source": [
    "%sql\n",
    "CREATE TABLE Customers (\n",
    "    customer_id INT PRIMARY KEY,\n",
    "    first_name VARCHAR(50),\n",
    "    last_name VARCHAR(50),\n",
    "    date_of_birth DATE,\n",
    "    email VARCHAR(100),\n",
    "    phone VARCHAR(15)\n",
    ");\n",
    "\n",
    "CREATE TABLE Agents (\n",
    "    agent_id INT PRIMARY KEY,\n",
    "    first_name VARCHAR(50),\n",
    "    last_name VARCHAR(50),\n",
    "    email VARCHAR(100),\n",
    "    phone VARCHAR(15)\n",
    ");\n",
    "\n",
    "CREATE TABLE Policies (\n",
    "    policy_id INT PRIMARY KEY,\n",
    "    policy_type VARCHAR(50),\n",
    "    coverage_amount DECIMAL(15,2),\n",
    "    premium DECIMAL(10,2),\n",
    "    start_date DATE,\n",
    "    end_date DATE,\n",
    "    customer_id INT,\n",
    "    agent_id INT,\n",
    "    FOREIGN KEY (customer_id) REFERENCES Customers(customer_id),\n",
    "    FOREIGN KEY (agent_id) REFERENCES Agents(agent_id)\n",
    ");\n",
    "\n",
    "CREATE TABLE Claims (\n",
    "    claim_id INT PRIMARY KEY,\n",
    "    policy_id INT,\n",
    "    claim_amount DECIMAL(15,2),\n",
    "    claim_date DATE,\n",
    "    status VARCHAR(20),\n",
    "    FOREIGN KEY (policy_id) REFERENCES Policies(policy_id)\n",
    ");\n",
    "\n",
    "CREATE TABLE Payments (\n",
    "    payment_id INT PRIMARY KEY,\n",
    "    policy_id INT,\n",
    "    amount_paid DECIMAL(10,2),\n",
    "    payment_date DATE,\n",
    "    FOREIGN KEY (policy_id) REFERENCES Policies(policy_id)\n",
    ");\n"
   ]
  },
  {
   "cell_type": "code",
   "execution_count": 0,
   "metadata": {
    "application/vnd.databricks.v1+cell": {
     "cellMetadata": {
      "byteLimit": 2048000,
      "rowLimit": 10000
     },
     "inputWidgets": {},
     "nuid": "ebff02dd-cf6a-48d0-9e75-113579342111",
     "showTitle": false,
     "tableResultSettingsMap": {},
     "title": ""
    }
   },
   "outputs": [
    {
     "output_type": "stream",
     "name": "stdout",
     "output_type": "stream",
     "text": [
      "+---------+----------------------------------+----------------------------------------------------+\n|TableName|ALLKeys                           |Relations                                           |\n+---------+----------------------------------+----------------------------------------------------+\n|claims   |[claim_id, policy_id]             |[{policies_pk, policy_id}]                          |\n|policies |[customer_id, agent_id, policy_id]|[{customers_pk, customer_id}, {agents_pk, agent_id}]|\n|agents   |[agent_id]                        |NULL                                                |\n|payments |[payment_id, policy_id]           |[{policies_pk, policy_id}]                          |\n|customers|[customer_id]                     |NULL                                                |\n+---------+----------------------------------+----------------------------------------------------+\n\n"
     ]
    }
   ],
   "source": [
    "from pyspark.sql import SparkSession\n",
    "from pyspark.sql.functions import collect_list, struct, col\n",
    "\n",
    "# Initialize Spark session\n",
    "spark = SparkSession.builder.appName(\"SchemaScanner\").getOrCreate()\n",
    "\n",
    "# Define the catalog and schema\n",
    "catalog_name = \"cat_prod\"\n",
    "schema_name = \"pega\"\n",
    "exclude_table = \"table_relationships\"  # Exclude this table\n",
    "\n",
    "# Fetch only primary and foreign keys from pega schema\n",
    "keys_df = spark.sql(f\"\"\"\n",
    "    SELECT kcu.table_name, kcu.column_name\n",
    "    FROM {catalog_name}.information_schema.key_column_usage kcu\n",
    "    WHERE kcu.table_schema = '{schema_name}'\n",
    "    AND kcu.table_name != '{exclude_table}'\n",
    "\"\"\").groupBy(\"table_name\").agg(\n",
    "    collect_list(\"column_name\").alias(\"ALLKeys\")\n",
    ")\n",
    "\n",
    "# Fetch foreign key relationships within pega schema\n",
    "relations_df = spark.sql(f\"\"\"\n",
    "    SELECT kcu.table_name AS referencing_table,\n",
    "           kcu.column_name AS referencing_column,\n",
    "           rc.unique_constraint_name AS referenced_table\n",
    "    FROM {catalog_name}.information_schema.referential_constraints rc\n",
    "    JOIN {catalog_name}.information_schema.key_column_usage kcu\n",
    "    ON rc.constraint_name = kcu.constraint_name\n",
    "    WHERE rc.constraint_schema = '{schema_name}' \n",
    "    AND kcu.table_schema = '{schema_name}'\n",
    "    AND kcu.table_name != '{exclude_table}'\n",
    "\"\"\")\n",
    "\n",
    "# Aggregate relationships into structured format\n",
    "relations_agg_df = relations_df.groupBy(\"referencing_table\").agg(\n",
    "    collect_list(struct(\n",
    "        col(\"referenced_table\").alias(\"RelatedTable\"), \n",
    "        col(\"referencing_column\").alias(\"KeyColumn\")\n",
    "    )).alias(\"Relations\")\n",
    ")\n",
    "\n",
    "# Join keys and relationships into a single table\n",
    "final_df = keys_df.join(\n",
    "    relations_agg_df, \n",
    "    keys_df.table_name == relations_agg_df.referencing_table, \n",
    "    \"left\"\n",
    ").select(\n",
    "    col(\"table_name\").alias(\"TableName\"),\n",
    "    col(\"ALLKeys\"),\n",
    "    col(\"Relations\")\n",
    ")\n",
    "\n",
    "# Display results\n",
    "final_df.show(truncate=False)\n",
    "\n",
    "# Save the table in Unity Catalog\n",
    "final_df.write.mode(\"overwrite\").saveAsTable(f\"{catalog_name}.{schema_name}.table_relationships\")\n"
   ]
  },
  {
   "cell_type": "code",
   "execution_count": 0,
   "metadata": {
    "application/vnd.databricks.v1+cell": {
     "cellMetadata": {
      "byteLimit": 2048000,
      "rowLimit": 10000
     },
     "inputWidgets": {},
     "nuid": "845f86bc-5162-4539-b29a-2fc3661104e3",
     "showTitle": false,
     "tableResultSettingsMap": {},
     "title": ""
    }
   },
   "outputs": [
    {
     "output_type": "display_data",
     "data": {
      "text/html": [
       "<style scoped>\n",
       "  .table-result-container {\n",
       "    max-height: 300px;\n",
       "    overflow: auto;\n",
       "  }\n",
       "  table, th, td {\n",
       "    border: 1px solid black;\n",
       "    border-collapse: collapse;\n",
       "  }\n",
       "  th, td {\n",
       "    padding: 5px;\n",
       "  }\n",
       "  th {\n",
       "    text-align: left;\n",
       "  }\n",
       "</style><div class='table-result-container'><table class='table-result'><thead style='background-color: white'><tr><th>TableName</th><th>ALLKeys</th><th>Relations</th></tr></thead><tbody><tr><td>claims</td><td>List(claim_id, policy_id)</td><td>List(List(policies_pk, policy_id))</td></tr><tr><td>policies</td><td>List(customer_id, agent_id, policy_id)</td><td>List(List(customers_pk, customer_id), List(agents_pk, agent_id))</td></tr><tr><td>agents</td><td>List(agent_id)</td><td>null</td></tr><tr><td>payments</td><td>List(payment_id, policy_id)</td><td>List(List(policies_pk, policy_id))</td></tr><tr><td>customers</td><td>List(customer_id)</td><td>null</td></tr></tbody></table></div>"
      ]
     },
     "metadata": {
      "application/vnd.databricks.v1+output": {
       "addedWidgets": {},
       "aggData": [],
       "aggError": "",
       "aggOverflow": false,
       "aggSchema": [],
       "aggSeriesLimitReached": false,
       "aggType": "",
       "arguments": {},
       "columnCustomDisplayInfos": {},
       "data": [
        [
         "claims",
         [
          "claim_id",
          "policy_id"
         ],
         [
          [
           "policies_pk",
           "policy_id"
          ]
         ]
        ],
        [
         "policies",
         [
          "customer_id",
          "agent_id",
          "policy_id"
         ],
         [
          [
           "customers_pk",
           "customer_id"
          ],
          [
           "agents_pk",
           "agent_id"
          ]
         ]
        ],
        [
         "agents",
         [
          "agent_id"
         ],
         null
        ],
        [
         "payments",
         [
          "payment_id",
          "policy_id"
         ],
         [
          [
           "policies_pk",
           "policy_id"
          ]
         ]
        ],
        [
         "customers",
         [
          "customer_id"
         ],
         null
        ]
       ],
       "datasetInfos": [],
       "dbfsResultPath": null,
       "isJsonSchema": true,
       "metadata": {},
       "overflow": false,
       "plotOptions": {
        "customPlotOptions": {},
        "displayType": "table",
        "pivotAggregation": null,
        "pivotColumns": null,
        "xColumns": null,
        "yColumns": null
       },
       "removedWidgets": [],
       "schema": [
        {
         "metadata": "{\"comment\": \"Name of the relation the column is part of.\"}",
         "name": "TableName",
         "type": "\"string\""
        },
        {
         "metadata": "{}",
         "name": "ALLKeys",
         "type": "{\"containsNull\":true,\"elementType\":\"string\",\"type\":\"array\"}"
        },
        {
         "metadata": "{}",
         "name": "Relations",
         "type": "{\"containsNull\":true,\"elementType\":{\"fields\":[{\"metadata\":{\"comment\":\"Name of the referenced constraint.\"},\"name\":\"RelatedTable\",\"nullable\":true,\"type\":\"string\"},{\"metadata\":{\"comment\":\"Name of the column.\"},\"name\":\"KeyColumn\",\"nullable\":true,\"type\":\"string\"}],\"type\":\"struct\"},\"type\":\"array\"}"
        }
       ],
       "type": "table"
      }
     },
     "output_type": "display_data"
    }
   ],
   "source": [
    "table = spark.table(f\"cat_prod.pega.table_relationships\")\n",
    "display(table)"
   ]
  },
  {
   "cell_type": "markdown",
   "metadata": {
    "application/vnd.databricks.v1+cell": {
     "cellMetadata": {},
     "inputWidgets": {},
     "nuid": "efd6d2f6-21ad-47da-81c9-00b5c6585bde",
     "showTitle": false,
     "tableResultSettingsMap": {},
     "title": ""
    }
   },
   "source": [
    "Visualization"
   ]
  },
  {
   "cell_type": "code",
   "execution_count": 0,
   "metadata": {
    "application/vnd.databricks.v1+cell": {
     "cellMetadata": {
      "byteLimit": 2048000,
      "rowLimit": 10000
     },
     "inputWidgets": {},
     "nuid": "df20c79f-8822-46da-9f25-9b1ea6611a0e",
     "showTitle": false,
     "tableResultSettingsMap": {},
     "title": ""
    }
   },
   "outputs": [
    {
     "output_type": "stream",
     "name": "stdout",
     "output_type": "stream",
     "text": [
      "Collecting networkx\n  Downloading networkx-3.4.2-py3-none-any.whl.metadata (6.3 kB)\nDownloading networkx-3.4.2-py3-none-any.whl (1.7 MB)\n\u001B[?25l   \u001B[90m━━━━━━━━━━━━━━━━━━━━━━━━━━━━━━━━━━━━━━━━\u001B[0m \u001B[32m0.0/1.7 MB\u001B[0m \u001B[31m?\u001B[0m eta \u001B[36m-:--:--\u001B[0m\n\u001B[2K   \u001B[90m━━━━━━━━━━━━━━━━━━━━━━━━━━━━━━━━━━━━━━━━\u001B[0m \u001B[32m1.7/1.7 MB\u001B[0m \u001B[31m32.4 MB/s\u001B[0m eta \u001B[36m0:00:00\u001B[0m\n\u001B[?25hInstalling collected packages: networkx\nSuccessfully installed networkx-3.4.2\n\u001B[43mNote: you may need to restart the kernel using %restart_python or dbutils.library.restartPython() to use updated packages.\u001B[0m\n"
     ]
    }
   ],
   "source": [
    "%pip install networkx"
   ]
  },
  {
   "cell_type": "code",
   "execution_count": 0,
   "metadata": {
    "application/vnd.databricks.v1+cell": {
     "cellMetadata": {
      "byteLimit": 2048000,
      "rowLimit": 10000
     },
     "inputWidgets": {},
     "nuid": "31abe0b6-ad24-4597-8226-615dcbfce7e7",
     "showTitle": false,
     "tableResultSettingsMap": {},
     "title": ""
    }
   },
   "outputs": [
    {
     "output_type": "display_data",
     "data": {
      "image/png": "[encoded data removed]",
      "text/plain": [
       "<Figure size 1000x600 with 1 Axes>"
      ]
     },
     "metadata": {},
     "output_type": "display_data"
    }
   ],
   "source": [
    "%python\n",
    "import networkx as nx\n",
    "import matplotlib.pyplot as plt\n",
    "from pyspark.sql.functions import col\n",
    "\n",
    "tableR = spark.table(\"cat_prod.pega.table_relationships\")\n",
    "# Convert PySpark DataFrame to Pandas for easier visualization load the table\n",
    "pandas_df = tableR.toPandas()\n",
    "\n",
    "# Create a directed graph\n",
    "G = nx.DiGraph()\n",
    "# Add nodes (tables)\n",
    "for table in pandas_df[\"TableName\"]:\n",
    "    G.add_node(table, color=\"red\")\n",
    "\n",
    "# Add edges (relationships)\n",
    "for _, row in pandas_df.iterrows():\n",
    "    if row[\"Relations\"] is not None:  # Avoid None values\n",
    "        for relation in row[\"Relations\"]:\n",
    "            related_table = relation[\"RelatedTable\"]\n",
    "            key_column = relation[\"KeyColumn\"]\n",
    "            G.add_edge(row[\"TableName\"], related_table, label=key_column)\n",
    "\n",
    "# Set up visualization properties\n",
    "plt.figure(figsize=(10, 6))\n",
    "pos = nx.spring_layout(G)  # Layout algorithm for better positioning\n",
    "\n",
    "# Draw nodes\n",
    "node_colors = [G.nodes[n].get(\"color\", \"red\") for n in G.nodes]\n",
    "nx.draw(G, pos, with_labels=True, node_color=node_colors, edge_color=\"red\", node_size=2000, font_size=10, font_color=\"white\")\n",
    "\n",
    "# Draw edge labels\n",
    "edge_labels = {(u, v): d[\"label\"] for u, v, d in G.edges(data=True)}\n",
    "nx.draw_networkx_edge_labels(G, pos, edge_labels=edge_labels, font_color=\"black\")\n",
    "\n",
    "# Show the graph\n",
    "plt.title(\"Database Schema Relationships\", fontsize=14, color=\"darkred\")\n",
    "plt.show()"
   ]
  }
 ],
 "metadata": {
  "application/vnd.databricks.v1+notebook": {
   "computePreferences": null,
   "dashboards": [],
   "environmentMetadata": {
    "base_environment": "",
    "environment_version": "2"
   },
   "language": "python",
   "notebookMetadata": {
    "mostRecentlyExecutedCommandWithImplicitDF": {
     "commandId": 2937774636228839,
     "dataframes": [
      "_sqldf"
     ]
    },
    "pythonIndentUnit": 4
   },
   "notebookName": "Untitled Notebook 2025-03-10 22:35:16",
   "widgets": {}
  },
  "language_info": {
   "name": "python"
  }
 },
 "nbformat": 4,
 "nbformat_minor": 0
}